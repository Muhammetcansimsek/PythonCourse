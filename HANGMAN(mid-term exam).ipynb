{
 "cells": [
  {
   "cell_type": "markdown",
   "id": "dd6ba14d",
   "metadata": {},
   "source": [
    "Hangman game (Adam asmaca oyunu) kodla\n",
    "\n",
    "1.Öncelikle kullanıcıdan isim girdisi alacak\n",
    "2.Daha sonra \"Hello {name}, time to play Hangman!\" şeklinde bir açılış yazısı gelecek ve oyun başlayacak.\n",
    "3.Ardından \"Guess a word: {kullanıcı girdisi}\" şeklinde kullanıcıdan gizli kelimeyle alakalı bir harf tahmin etmesini isteyeceğiz tabi ki kullanıcı veri girişi yapılacak.\n",
    "4.Kullanıcı yanlış kelime içindeki harflerden birini doğru tahmin edemezse toplam 10 adet canı olacak ve her yanlış tahminde \"Wrong!\" yazısı çıkacak ve \"You've 9 left..\" \"You've 1 left\" gibi yazılar çıkacak.\n",
    "5.Tabi ki doğru tahminde can azalmayacak ama \"Guess a word:{kullanıcı girdisi}\" döngüsel olarak(while) sürekli tekrarlayacak ancak can değişkenimizin değeri 0 olana kadar.\n",
    "6.Can değişken değerimiz sıfıra düştüğünde \"Wrong! \\t You've got 0 left\" sonrasında \"You died!\" ifadesi çıkmalı ve program sonlandırılmalı. Bunu \"break\" ifadesiyle yapabilirim sanırsam."
   ]
  },
  {
   "cell_type": "code",
   "execution_count": null,
   "id": "5d5d3409",
   "metadata": {},
   "outputs": [],
   "source": []
  }
 ],
 "metadata": {
  "kernelspec": {
   "display_name": "Python 3 (ipykernel)",
   "language": "python",
   "name": "python3"
  },
  "language_info": {
   "codemirror_mode": {
    "name": "ipython",
    "version": 3
   },
   "file_extension": ".py",
   "mimetype": "text/x-python",
   "name": "python",
   "nbconvert_exporter": "python",
   "pygments_lexer": "ipython3",
   "version": "3.11.4"
  }
 },
 "nbformat": 4,
 "nbformat_minor": 5
}
