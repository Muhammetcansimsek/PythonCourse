{
 "cells": [
  {
   "cell_type": "code",
   "execution_count": 1,
   "id": "277eafe4",
   "metadata": {},
   "outputs": [],
   "source": [
    "def func(new_func):\n",
    "    print(\"func started\")\n",
    "    new_func()\n",
    "    print(\"func ended\")"
   ]
  },
  {
   "cell_type": "code",
   "execution_count": 2,
   "id": "d20b8cd1",
   "metadata": {},
   "outputs": [],
   "source": [
    "def hello_func():\n",
    "    print(\"Hello World!\")"
   ]
  },
  {
   "cell_type": "code",
   "execution_count": 3,
   "id": "4b543a6b",
   "metadata": {},
   "outputs": [
    {
     "name": "stdout",
     "output_type": "stream",
     "text": [
      "func started\n",
      "Hello World!\n",
      "func ended\n"
     ]
    }
   ],
   "source": [
    "func(hello_func)"
   ]
  },
  {
   "cell_type": "code",
   "execution_count": 4,
   "id": "180620f7",
   "metadata": {},
   "outputs": [],
   "source": [
    "def decorator_function(fun):\n",
    "    def wrapper_function():\n",
    "        print(\"wrapper started\")\n",
    "        fun()\n",
    "        print(\"wrapper stoped\")\n",
    "    return wrapper_function"
   ]
  },
  {
   "cell_type": "code",
   "execution_count": 5,
   "id": "38093d7e",
   "metadata": {},
   "outputs": [],
   "source": [
    "def func_new():\n",
    "    print(\"Hello World!\")"
   ]
  },
  {
   "cell_type": "code",
   "execution_count": 6,
   "id": "201d0892",
   "metadata": {},
   "outputs": [
    {
     "name": "stdout",
     "output_type": "stream",
     "text": [
      "wrapper started\n",
      "Hello World!\n",
      "wrapper stoped\n"
     ]
    }
   ],
   "source": [
    "decorator_function(func_new)()"
   ]
  },
  {
   "cell_type": "code",
   "execution_count": 7,
   "id": "e405b425",
   "metadata": {},
   "outputs": [],
   "source": [
    "@decorator_function\n",
    "def example():\n",
    "    print(\"Hello World!\")"
   ]
  },
  {
   "cell_type": "code",
   "execution_count": 8,
   "id": "bdac1de2",
   "metadata": {},
   "outputs": [
    {
     "name": "stdout",
     "output_type": "stream",
     "text": [
      "wrapper started\n",
      "Hello World!\n",
      "wrapper stoped\n"
     ]
    }
   ],
   "source": [
    "example()"
   ]
  },
  {
   "cell_type": "code",
   "execution_count": null,
   "id": "88b56585",
   "metadata": {},
   "outputs": [],
   "source": []
  }
 ],
 "metadata": {
  "kernelspec": {
   "display_name": "Python 3 (ipykernel)",
   "language": "python",
   "name": "python3"
  },
  "language_info": {
   "codemirror_mode": {
    "name": "ipython",
    "version": 3
   },
   "file_extension": ".py",
   "mimetype": "text/x-python",
   "name": "python",
   "nbconvert_exporter": "python",
   "pygments_lexer": "ipython3",
   "version": "3.11.4"
  }
 },
 "nbformat": 4,
 "nbformat_minor": 5
}
