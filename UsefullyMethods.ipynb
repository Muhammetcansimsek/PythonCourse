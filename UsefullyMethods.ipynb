{
 "cells": [
  {
   "cell_type": "code",
   "execution_count": null,
   "id": "1b22b34c",
   "metadata": {},
   "outputs": [],
   "source": [
    "range(20)"
   ]
  },
  {
   "cell_type": "code",
   "execution_count": null,
   "id": "7ccc3e27",
   "metadata": {},
   "outputs": [],
   "source": [
    "list(range(20))"
   ]
  },
  {
   "cell_type": "code",
   "execution_count": null,
   "id": "e158b519",
   "metadata": {},
   "outputs": [],
   "source": [
    "for numb in list(range(5,21,3)):\n",
    "    print(numb)"
   ]
  },
  {
   "cell_type": "code",
   "execution_count": null,
   "id": "9d046044",
   "metadata": {},
   "outputs": [],
   "source": [
    "index = 0\n",
    "for myNumber in list(range(5,15)):\n",
    "    print(f\"index:{index} no:{myNumber}\")\n",
    "    index += 1"
   ]
  },
  {
   "cell_type": "code",
   "execution_count": null,
   "id": "87c10447",
   "metadata": {},
   "outputs": [],
   "source": [
    "for number in enumerate(list(range(5,21))):\n",
    "    print(number)"
   ]
  },
  {
   "cell_type": "code",
   "execution_count": null,
   "id": "3e85234a",
   "metadata": {},
   "outputs": [],
   "source": [
    "from random import randint"
   ]
  },
  {
   "cell_type": "code",
   "execution_count": null,
   "id": "7c106234",
   "metadata": {},
   "outputs": [],
   "source": [
    "randint(0,1000)"
   ]
  },
  {
   "cell_type": "code",
   "execution_count": null,
   "id": "a514fb49",
   "metadata": {},
   "outputs": [],
   "source": [
    "my_list2 = list(range(10))\n",
    "my_list2"
   ]
  },
  {
   "cell_type": "code",
   "execution_count": null,
   "id": "9926f597",
   "metadata": {},
   "outputs": [],
   "source": [
    "from random import shuffle"
   ]
  },
  {
   "cell_type": "code",
   "execution_count": null,
   "id": "691fceb1",
   "metadata": {},
   "outputs": [],
   "source": [
    "shuffle(my_list2)\n",
    "my_list2"
   ]
  },
  {
   "cell_type": "markdown",
   "id": "1d6dd095",
   "metadata": {},
   "source": [
    "#ZIP"
   ]
  },
  {
   "cell_type": "code",
   "execution_count": null,
   "id": "d46aaef3",
   "metadata": {},
   "outputs": [],
   "source": [
    "sports_list = [\"basketball\", \"swim\", \"run\"]"
   ]
  },
  {
   "cell_type": "code",
   "execution_count": null,
   "id": "6def3183",
   "metadata": {},
   "outputs": [],
   "source": [
    "calories_list = [100,200,300]"
   ]
  },
  {
   "cell_type": "code",
   "execution_count": null,
   "id": "5383f65b",
   "metadata": {},
   "outputs": [],
   "source": [
    "day_list = [\"monday\", \"tuesday\", \"wednesday\"]"
   ]
  },
  {
   "cell_type": "markdown",
   "id": "2023987c",
   "metadata": {},
   "source": [
    "1.Yol"
   ]
  },
  {
   "cell_type": "code",
   "execution_count": null,
   "id": "ab6c0efb",
   "metadata": {},
   "outputs": [],
   "source": [
    "for iter1,iter2,iter3 in zip(sports_list, calories_list, day_list):\n",
    "    print(iter1,iter2,iter3)"
   ]
  },
  {
   "cell_type": "markdown",
   "id": "cdeff388",
   "metadata": {},
   "source": [
    "2.Yol"
   ]
  },
  {
   "cell_type": "code",
   "execution_count": null,
   "id": "016c8684",
   "metadata": {},
   "outputs": [],
   "source": [
    "new_list = list(zip(sports_list, calories_list, day_list))\n",
    "new_list"
   ]
  },
  {
   "cell_type": "markdown",
   "id": "2dcbac57",
   "metadata": {},
   "source": [
    "LIST ADVANCED"
   ]
  },
  {
   "cell_type": "code",
   "execution_count": null,
   "id": "90f81845",
   "metadata": {},
   "outputs": [],
   "source": [
    "new_list = []\n",
    "my_string = \"metallica\"\n",
    "\n",
    "for item in my_string:\n",
    "    new_list.append(item)\n",
    "new_list"
   ]
  },
  {
   "cell_type": "code",
   "execution_count": null,
   "id": "b6fda58a",
   "metadata": {},
   "outputs": [],
   "source": [
    "type(my_string)"
   ]
  },
  {
   "cell_type": "markdown",
   "id": "6654114f",
   "metadata": {},
   "source": [
    "new_list = [\"-\", \"-\", \"-\", \"-\", \"-\", \"-\", \"-\", \"-\", \"-\"]\n",
    "for element1, element2 in enumerate(new_list):\n",
    "    if element1 == 3:\n",
    "        element2 = \"a\"\n",
    "    print(f\"index:{element1}, value:{element2}\")"
   ]
  },
  {
   "cell_type": "code",
   "execution_count": null,
   "id": "ece3d2f0",
   "metadata": {
    "scrolled": true
   },
   "outputs": [],
   "source": [
    "character_list = [char for char in my_string]\n",
    "for item1, item2 in enumerate(character_list):\n",
    "    print(f\"index:{item1}, value:{item2}\")"
   ]
  },
  {
   "cell_type": "code",
   "execution_count": null,
   "id": "e12120b4",
   "metadata": {},
   "outputs": [],
   "source": []
  }
 ],
 "metadata": {
  "kernelspec": {
   "display_name": "Python 3 (ipykernel)",
   "language": "python",
   "name": "python3"
  },
  "language_info": {
   "codemirror_mode": {
    "name": "ipython",
    "version": 3
   },
   "file_extension": ".py",
   "mimetype": "text/x-python",
   "name": "python",
   "nbconvert_exporter": "python",
   "pygments_lexer": "ipython3",
   "version": "3.11.4"
  }
 },
 "nbformat": 4,
 "nbformat_minor": 5
}
