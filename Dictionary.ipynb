{
 "cells": [
  {
   "cell_type": "code",
   "execution_count": 52,
   "id": "2fcbdc4c",
   "metadata": {},
   "outputs": [],
   "source": [
    "my_dictionary = {\"key\" : \"value\"}"
   ]
  },
  {
   "cell_type": "code",
   "execution_count": 53,
   "id": "d07a7ac1",
   "metadata": {},
   "outputs": [
    {
     "data": {
      "text/plain": [
       "dict"
      ]
     },
     "execution_count": 53,
     "metadata": {},
     "output_type": "execute_result"
    }
   ],
   "source": [
    "type(my_dictionary)"
   ]
  },
  {
   "cell_type": "code",
   "execution_count": 54,
   "id": "a446df50",
   "metadata": {},
   "outputs": [
    {
     "data": {
      "text/plain": [
       "'value'"
      ]
     },
     "execution_count": 54,
     "metadata": {},
     "output_type": "execute_result"
    }
   ],
   "source": [
    "my_dictionary[\"key\"]"
   ]
  },
  {
   "cell_type": "code",
   "execution_count": 55,
   "id": "0c3608e8",
   "metadata": {},
   "outputs": [],
   "source": [
    "my_list = [100,200]"
   ]
  },
  {
   "cell_type": "code",
   "execution_count": 56,
   "id": "10c035d7",
   "metadata": {},
   "outputs": [],
   "source": [
    "my_list2 = [\"run\", \"swim\"]"
   ]
  },
  {
   "cell_type": "code",
   "execution_count": 57,
   "id": "23691a38",
   "metadata": {},
   "outputs": [
    {
     "data": {
      "text/plain": [
       "100"
      ]
     },
     "execution_count": 57,
     "metadata": {},
     "output_type": "execute_result"
    }
   ],
   "source": [
    "my_list[0]"
   ]
  },
  {
   "cell_type": "code",
   "execution_count": 58,
   "id": "199d83b1",
   "metadata": {},
   "outputs": [
    {
     "data": {
      "text/plain": [
       "'run'"
      ]
     },
     "execution_count": 58,
     "metadata": {},
     "output_type": "execute_result"
    }
   ],
   "source": [
    "my_list2[0]"
   ]
  },
  {
   "cell_type": "code",
   "execution_count": 59,
   "id": "05817667",
   "metadata": {},
   "outputs": [],
   "source": [
    "my_fitness_dictionary = {\"run\":100, \"swim\":200}"
   ]
  },
  {
   "cell_type": "code",
   "execution_count": 60,
   "id": "e48f10c6",
   "metadata": {},
   "outputs": [
    {
     "data": {
      "text/plain": [
       "100"
      ]
     },
     "execution_count": 60,
     "metadata": {},
     "output_type": "execute_result"
    }
   ],
   "source": [
    "my_fitness_dictionary[\"run\"]"
   ]
  },
  {
   "cell_type": "code",
   "execution_count": 61,
   "id": "90c494e5",
   "metadata": {},
   "outputs": [
    {
     "data": {
      "text/plain": [
       "200"
      ]
     },
     "execution_count": 61,
     "metadata": {},
     "output_type": "execute_result"
    }
   ],
   "source": [
    "my_fitness_dictionary[\"swim\"]"
   ]
  },
  {
   "cell_type": "markdown",
   "id": "731d3ce6",
   "metadata": {},
   "source": [
    "key veya value değerlerin sadece 'string' veya sadece 'integer' olması gerekmez istedğimiz her şeyi koyabiliriz herhangi bir kısıt yoktur."
   ]
  },
  {
   "cell_type": "code",
   "execution_count": 62,
   "id": "fe78a439",
   "metadata": {},
   "outputs": [],
   "source": [
    "my_dict = {\"key1\":1, \"key2\":\"apple\", 3:20}"
   ]
  },
  {
   "cell_type": "code",
   "execution_count": 63,
   "id": "5f47b4c1",
   "metadata": {},
   "outputs": [
    {
     "data": {
      "text/plain": [
       "1"
      ]
     },
     "execution_count": 63,
     "metadata": {},
     "output_type": "execute_result"
    }
   ],
   "source": [
    "my_dict[\"key1\"]"
   ]
  },
  {
   "cell_type": "code",
   "execution_count": 64,
   "id": "55b97f99",
   "metadata": {},
   "outputs": [
    {
     "data": {
      "text/plain": [
       "'apple'"
      ]
     },
     "execution_count": 64,
     "metadata": {},
     "output_type": "execute_result"
    }
   ],
   "source": [
    "my_dict[\"key2\"]"
   ]
  },
  {
   "cell_type": "code",
   "execution_count": 65,
   "id": "3db1f336",
   "metadata": {},
   "outputs": [
    {
     "data": {
      "text/plain": [
       "20"
      ]
     },
     "execution_count": 65,
     "metadata": {},
     "output_type": "execute_result"
    }
   ],
   "source": [
    "my_dict[3]"
   ]
  },
  {
   "cell_type": "code",
   "execution_count": 66,
   "id": "6c231535",
   "metadata": {},
   "outputs": [],
   "source": [
    "my_dict_2= {\"key1\":[10,20,30], \"key2\":{\"a\",5}}"
   ]
  },
  {
   "cell_type": "code",
   "execution_count": 67,
   "id": "a3e7aa64",
   "metadata": {},
   "outputs": [
    {
     "data": {
      "text/plain": [
       "{5, 'a'}"
      ]
     },
     "execution_count": 67,
     "metadata": {},
     "output_type": "execute_result"
    }
   ],
   "source": [
    "my_dict_2[\"key2\"]"
   ]
  },
  {
   "cell_type": "code",
   "execution_count": 68,
   "id": "a06b2265",
   "metadata": {},
   "outputs": [
    {
     "data": {
      "text/plain": [
       "dict"
      ]
     },
     "execution_count": 68,
     "metadata": {},
     "output_type": "execute_result"
    }
   ],
   "source": [
    "type(my_dict_2)"
   ]
  },
  {
   "cell_type": "code",
   "execution_count": 69,
   "id": "9bbc278f",
   "metadata": {},
   "outputs": [
    {
     "data": {
      "text/plain": [
       "1"
      ]
     },
     "execution_count": 69,
     "metadata": {},
     "output_type": "execute_result"
    }
   ],
   "source": [
    "my_dict[\"key1\"]"
   ]
  },
  {
   "cell_type": "code",
   "execution_count": 70,
   "id": "4e7a9093",
   "metadata": {},
   "outputs": [
    {
     "data": {
      "text/plain": [
       "[10, 20, 30]"
      ]
     },
     "execution_count": 70,
     "metadata": {},
     "output_type": "execute_result"
    }
   ],
   "source": [
    "my_dict_2[\"key1\"]"
   ]
  },
  {
   "cell_type": "code",
   "execution_count": 71,
   "id": "5c06800c",
   "metadata": {},
   "outputs": [],
   "source": [
    "my_dict_3 = {\"key1\" : 100, \"key2\" : [10,20,30], \"key3\" : {\"a\" : 4}}"
   ]
  },
  {
   "cell_type": "code",
   "execution_count": 72,
   "id": "443e44b3",
   "metadata": {},
   "outputs": [
    {
     "data": {
      "text/plain": [
       "100"
      ]
     },
     "execution_count": 72,
     "metadata": {},
     "output_type": "execute_result"
    }
   ],
   "source": [
    "my_dict_3[\"key1\"]"
   ]
  },
  {
   "cell_type": "code",
   "execution_count": 73,
   "id": "6a64c7e5",
   "metadata": {},
   "outputs": [
    {
     "data": {
      "text/plain": [
       "[10, 20, 30]"
      ]
     },
     "execution_count": 73,
     "metadata": {},
     "output_type": "execute_result"
    }
   ],
   "source": [
    "my_dict_3[\"key2\"]"
   ]
  },
  {
   "cell_type": "code",
   "execution_count": 74,
   "id": "8049f52c",
   "metadata": {},
   "outputs": [
    {
     "data": {
      "text/plain": [
       "{'a': 4}"
      ]
     },
     "execution_count": 74,
     "metadata": {},
     "output_type": "execute_result"
    }
   ],
   "source": [
    "my_dict_3[\"key3\"]"
   ]
  },
  {
   "cell_type": "code",
   "execution_count": 75,
   "id": "33f48f6f",
   "metadata": {},
   "outputs": [
    {
     "data": {
      "text/plain": [
       "int"
      ]
     },
     "execution_count": 75,
     "metadata": {},
     "output_type": "execute_result"
    }
   ],
   "source": [
    "type(my_dict_3[\"key1\"])"
   ]
  },
  {
   "cell_type": "code",
   "execution_count": 76,
   "id": "de358d21",
   "metadata": {},
   "outputs": [
    {
     "data": {
      "text/plain": [
       "list"
      ]
     },
     "execution_count": 76,
     "metadata": {},
     "output_type": "execute_result"
    }
   ],
   "source": [
    "type(my_dict_3[\"key2\"])"
   ]
  },
  {
   "cell_type": "code",
   "execution_count": 77,
   "id": "bef18c68",
   "metadata": {},
   "outputs": [
    {
     "data": {
      "text/plain": [
       "dict"
      ]
     },
     "execution_count": 77,
     "metadata": {},
     "output_type": "execute_result"
    }
   ],
   "source": [
    "type(my_dict_3[\"key3\"])"
   ]
  },
  {
   "cell_type": "code",
   "execution_count": 78,
   "id": "ab4c905c",
   "metadata": {},
   "outputs": [
    {
     "data": {
      "text/plain": [
       "dict"
      ]
     },
     "execution_count": 78,
     "metadata": {},
     "output_type": "execute_result"
    }
   ],
   "source": [
    "type(my_dict_3)"
   ]
  },
  {
   "cell_type": "code",
   "execution_count": 80,
   "id": "c1da5ae5",
   "metadata": {},
   "outputs": [
    {
     "data": {
      "text/plain": [
       "{'a': 4}"
      ]
     },
     "execution_count": 80,
     "metadata": {},
     "output_type": "execute_result"
    }
   ],
   "source": [
    "my_dict_3.get(\"key3\")"
   ]
  },
  {
   "cell_type": "code",
   "execution_count": 81,
   "id": "268dba45",
   "metadata": {},
   "outputs": [
    {
     "data": {
      "text/plain": [
       "{'a': 4}"
      ]
     },
     "execution_count": 81,
     "metadata": {},
     "output_type": "execute_result"
    }
   ],
   "source": [
    "my_dict_3[\"key3\"]"
   ]
  },
  {
   "cell_type": "code",
   "execution_count": 82,
   "id": "6adbdf57",
   "metadata": {},
   "outputs": [
    {
     "data": {
      "text/plain": [
       "dict_items([('key1', 100), ('key2', [10, 20, 30]), ('key3', {'a': 4})])"
      ]
     },
     "execution_count": 82,
     "metadata": {},
     "output_type": "execute_result"
    }
   ],
   "source": [
    "my_dict_3.items()"
   ]
  },
  {
   "cell_type": "code",
   "execution_count": 83,
   "id": "3937b83a",
   "metadata": {},
   "outputs": [
    {
     "data": {
      "text/plain": [
       "dict_values([100, [10, 20, 30], {'a': 4}])"
      ]
     },
     "execution_count": 83,
     "metadata": {},
     "output_type": "execute_result"
    }
   ],
   "source": [
    "my_dict_3.values()"
   ]
  }
 ],
 "metadata": {
  "kernelspec": {
   "display_name": "Python 3 (ipykernel)",
   "language": "python",
   "name": "python3"
  },
  "language_info": {
   "codemirror_mode": {
    "name": "ipython",
    "version": 3
   },
   "file_extension": ".py",
   "mimetype": "text/x-python",
   "name": "python",
   "nbconvert_exporter": "python",
   "pygments_lexer": "ipython3",
   "version": "3.11.4"
  }
 },
 "nbformat": 4,
 "nbformat_minor": 5
}
