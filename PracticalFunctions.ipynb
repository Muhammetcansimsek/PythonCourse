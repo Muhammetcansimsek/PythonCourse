{
 "cells": [
  {
   "cell_type": "code",
   "execution_count": 1,
   "id": "202db8c8",
   "metadata": {},
   "outputs": [
    {
     "data": {
      "text/plain": [
       "55.0"
      ]
     },
     "execution_count": 1,
     "metadata": {},
     "output_type": "execute_result"
    }
   ],
   "source": [
    "def divide(number):\n",
    "    return number/2\n",
    "divide(110)"
   ]
  },
  {
   "cell_type": "code",
   "execution_count": 2,
   "id": "7349404e",
   "metadata": {},
   "outputs": [],
   "source": [
    "myList = [1,2,3,4,5,6,7,8]"
   ]
  },
  {
   "cell_type": "code",
   "execution_count": 3,
   "id": "98ae39a8",
   "metadata": {},
   "outputs": [
    {
     "name": "stdout",
     "output_type": "stream",
     "text": [
      "0.5\n",
      "1.0\n",
      "1.5\n",
      "2.0\n",
      "2.5\n",
      "3.0\n",
      "3.5\n",
      "4.0\n"
     ]
    }
   ],
   "source": [
    "for numb in myList:\n",
    "    print(divide(numb))"
   ]
  },
  {
   "cell_type": "markdown",
   "id": "b0825d7a",
   "metadata": {},
   "source": [
    "## MAP"
   ]
  },
  {
   "cell_type": "code",
   "execution_count": 5,
   "id": "96c49ac2",
   "metadata": {},
   "outputs": [
    {
     "data": {
      "text/plain": [
       "[0.5, 1.0, 1.5, 2.0, 2.5, 3.0, 3.5, 4.0]"
      ]
     },
     "execution_count": 5,
     "metadata": {},
     "output_type": "execute_result"
    }
   ],
   "source": [
    "list(map(divide, myList))"
   ]
  },
  {
   "cell_type": "code",
   "execution_count": 6,
   "id": "b1ecd1f6",
   "metadata": {},
   "outputs": [],
   "source": [
    "def control_string(string):\n",
    "    return \"metallica\" in string"
   ]
  },
  {
   "cell_type": "code",
   "execution_count": 7,
   "id": "4aec57cc",
   "metadata": {},
   "outputs": [
    {
     "data": {
      "text/plain": [
       "True"
      ]
     },
     "execution_count": 7,
     "metadata": {},
     "output_type": "execute_result"
    }
   ],
   "source": [
    "control_string(\"metallicaqeopıwqeoıqpeoqe\")"
   ]
  },
  {
   "cell_type": "code",
   "execution_count": 8,
   "id": "970d0df4",
   "metadata": {},
   "outputs": [
    {
     "data": {
      "text/plain": [
       "False"
      ]
     },
     "execution_count": 8,
     "metadata": {},
     "output_type": "execute_result"
    }
   ],
   "source": [
    "control_string(\"qweğqwoeqpwe798798\")"
   ]
  },
  {
   "cell_type": "code",
   "execution_count": 13,
   "id": "d5d27380",
   "metadata": {},
   "outputs": [],
   "source": [
    "my_artist_list = [\"metallica\", \"Madonna\", \"Queen\", \"Megadeth\", \"Muslum\", \"metallica3\"]"
   ]
  },
  {
   "cell_type": "code",
   "execution_count": 14,
   "id": "e00f155e",
   "metadata": {},
   "outputs": [
    {
     "data": {
      "text/plain": [
       "[True, False, False, False, False, True]"
      ]
     },
     "execution_count": 14,
     "metadata": {},
     "output_type": "execute_result"
    }
   ],
   "source": [
    "list(map(control_string, my_artist_list))"
   ]
  },
  {
   "cell_type": "markdown",
   "id": "576b823b",
   "metadata": {},
   "source": [
    "## Filter"
   ]
  },
  {
   "cell_type": "code",
   "execution_count": 15,
   "id": "9bfca76e",
   "metadata": {},
   "outputs": [
    {
     "data": {
      "text/plain": [
       "['metallica', 'metallica3']"
      ]
     },
     "execution_count": 15,
     "metadata": {},
     "output_type": "execute_result"
    }
   ],
   "source": [
    "list(filter(control_string, my_artist_list))"
   ]
  },
  {
   "cell_type": "markdown",
   "id": "7742d214",
   "metadata": {},
   "source": [
    "## Lambda"
   ]
  },
  {
   "cell_type": "code",
   "execution_count": 16,
   "id": "62e769a9",
   "metadata": {},
   "outputs": [],
   "source": [
    "def multiply(number):\n",
    "    return number*3"
   ]
  },
  {
   "cell_type": "code",
   "execution_count": 17,
   "id": "3156882e",
   "metadata": {},
   "outputs": [
    {
     "data": {
      "text/plain": [
       "15"
      ]
     },
     "execution_count": 17,
     "metadata": {},
     "output_type": "execute_result"
    }
   ],
   "source": [
    "multiply(5)"
   ]
  },
  {
   "cell_type": "code",
   "execution_count": 19,
   "id": "6ba02613",
   "metadata": {},
   "outputs": [],
   "source": [
    "carpma = lambda number:number*3"
   ]
  },
  {
   "cell_type": "code",
   "execution_count": 20,
   "id": "35e012b2",
   "metadata": {},
   "outputs": [
    {
     "data": {
      "text/plain": [
       "24"
      ]
     },
     "execution_count": 20,
     "metadata": {},
     "output_type": "execute_result"
    }
   ],
   "source": [
    "carpma(8)"
   ]
  },
  {
   "cell_type": "code",
   "execution_count": 21,
   "id": "e1eecb9a",
   "metadata": {},
   "outputs": [],
   "source": [
    "myList_3 = [3,5,7,9]"
   ]
  },
  {
   "cell_type": "code",
   "execution_count": 22,
   "id": "8aee272d",
   "metadata": {},
   "outputs": [
    {
     "data": {
      "text/plain": [
       "[9, 15, 21, 27]"
      ]
     },
     "execution_count": 22,
     "metadata": {},
     "output_type": "execute_result"
    }
   ],
   "source": [
    "list(map(multiply, myList_3))"
   ]
  },
  {
   "cell_type": "code",
   "execution_count": 23,
   "id": "70673ef1",
   "metadata": {},
   "outputs": [
    {
     "data": {
      "text/plain": [
       "[9, 15, 21, 27]"
      ]
     },
     "execution_count": 23,
     "metadata": {},
     "output_type": "execute_result"
    }
   ],
   "source": [
    "list(map(lambda num:num*3, myList_3))"
   ]
  },
  {
   "cell_type": "code",
   "execution_count": null,
   "id": "c6533751",
   "metadata": {},
   "outputs": [],
   "source": []
  }
 ],
 "metadata": {
  "kernelspec": {
   "display_name": "Python 3 (ipykernel)",
   "language": "python",
   "name": "python3"
  },
  "language_info": {
   "codemirror_mode": {
    "name": "ipython",
    "version": 3
   },
   "file_extension": ".py",
   "mimetype": "text/x-python",
   "name": "python",
   "nbconvert_exporter": "python",
   "pygments_lexer": "ipython3",
   "version": "3.11.4"
  }
 },
 "nbformat": 4,
 "nbformat_minor": 5
}
