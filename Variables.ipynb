{
 "cells": [
  {
   "cell_type": "code",
   "execution_count": 1,
   "id": "c315ff9a",
   "metadata": {},
   "outputs": [
    {
     "name": "stdout",
     "output_type": "stream",
     "text": [
      "Hello World!\n"
     ]
    }
   ],
   "source": [
    "print(\"Hello World!\")"
   ]
  },
  {
   "cell_type": "code",
   "execution_count": 2,
   "id": "7b4d9bf5",
   "metadata": {},
   "outputs": [],
   "source": [
    "my_strings=\"1234567890\""
   ]
  },
  {
   "cell_type": "code",
   "execution_count": 3,
   "id": "ca03c59d",
   "metadata": {},
   "outputs": [
    {
     "data": {
      "text/plain": [
       "'1'"
      ]
     },
     "execution_count": 3,
     "metadata": {},
     "output_type": "execute_result"
    }
   ],
   "source": [
    "my_strings[0]"
   ]
  },
  {
   "cell_type": "code",
   "execution_count": 4,
   "id": "f2096fae",
   "metadata": {},
   "outputs": [
    {
     "data": {
      "text/plain": [
       "'0'"
      ]
     },
     "execution_count": 4,
     "metadata": {},
     "output_type": "execute_result"
    }
   ],
   "source": [
    "my_strings[-1]"
   ]
  },
  {
   "cell_type": "code",
   "execution_count": 6,
   "id": "3d17b305",
   "metadata": {},
   "outputs": [
    {
     "data": {
      "text/plain": [
       "'34567890'"
      ]
     },
     "execution_count": 6,
     "metadata": {},
     "output_type": "execute_result"
    }
   ],
   "source": [
    "my_strings[2:]"
   ]
  },
  {
   "cell_type": "markdown",
   "id": "cbe3ec55",
   "metadata": {},
   "source": [
    "#slicing"
   ]
  },
  {
   "cell_type": "code",
   "execution_count": 7,
   "id": "e0633a50",
   "metadata": {},
   "outputs": [
    {
     "data": {
      "text/plain": [
       "'567890'"
      ]
     },
     "execution_count": 7,
     "metadata": {},
     "output_type": "execute_result"
    }
   ],
   "source": [
    "my_strings[4:]"
   ]
  },
  {
   "cell_type": "code",
   "execution_count": 8,
   "id": "cc301c9e",
   "metadata": {},
   "outputs": [
    {
     "data": {
      "text/plain": [
       "'678'"
      ]
     },
     "execution_count": 8,
     "metadata": {},
     "output_type": "execute_result"
    }
   ],
   "source": [
    "my_strings[5:8]"
   ]
  },
  {
   "cell_type": "code",
   "execution_count": 9,
   "id": "234db5ae",
   "metadata": {},
   "outputs": [
    {
     "data": {
      "text/plain": [
       "'1234567890'"
      ]
     },
     "execution_count": 9,
     "metadata": {},
     "output_type": "execute_result"
    }
   ],
   "source": [
    "my_strings[::]"
   ]
  },
  {
   "cell_type": "code",
   "execution_count": 10,
   "id": "40aff1c7",
   "metadata": {},
   "outputs": [
    {
     "data": {
      "text/plain": [
       "'1470'"
      ]
     },
     "execution_count": 10,
     "metadata": {},
     "output_type": "execute_result"
    }
   ],
   "source": [
    "my_strings[::3]"
   ]
  },
  {
   "cell_type": "markdown",
   "id": "e2aa88be",
   "metadata": {},
   "source": [
    "#step size --> atlamalı olarak elemanları yazdırır, iki noktadan önceki ilk rakam başlangıç indisi, ikinci rakam son indisi ve üçüncü rakamsa bize kaçar atlayacağımızı verir."
   ]
  },
  {
   "cell_type": "code",
   "execution_count": 11,
   "id": "15a3223d",
   "metadata": {},
   "outputs": [
    {
     "data": {
      "text/plain": [
       "'0987654321'"
      ]
     },
     "execution_count": 11,
     "metadata": {},
     "output_type": "execute_result"
    }
   ],
   "source": [
    "my_strings[::-1]"
   ]
  },
  {
   "cell_type": "markdown",
   "id": "9f5b3c09",
   "metadata": {},
   "source": [
    "\n",
    "\n",
    "\n",
    "String Methods"
   ]
  },
  {
   "cell_type": "code",
   "execution_count": 12,
   "id": "d0a20a0e",
   "metadata": {},
   "outputs": [],
   "source": [
    "myName = \"muhammet can\""
   ]
  },
  {
   "cell_type": "code",
   "execution_count": 13,
   "id": "310c5582",
   "metadata": {},
   "outputs": [
    {
     "data": {
      "text/plain": [
       "'Muhammet can'"
      ]
     },
     "execution_count": 13,
     "metadata": {},
     "output_type": "execute_result"
    }
   ],
   "source": [
    "myName.capitalize()"
   ]
  },
  {
   "cell_type": "code",
   "execution_count": 14,
   "id": "c2867e65",
   "metadata": {},
   "outputs": [
    {
     "data": {
      "text/plain": [
       "'muhammet can'"
      ]
     },
     "execution_count": 14,
     "metadata": {},
     "output_type": "execute_result"
    }
   ],
   "source": [
    "myName"
   ]
  },
  {
   "cell_type": "code",
   "execution_count": 15,
   "id": "b9b3f272",
   "metadata": {},
   "outputs": [
    {
     "data": {
      "text/plain": [
       "['muhammet', 'can']"
      ]
     },
     "execution_count": 15,
     "metadata": {},
     "output_type": "execute_result"
    }
   ],
   "source": [
    "myName.split()"
   ]
  },
  {
   "cell_type": "markdown",
   "id": "880cba58",
   "metadata": {},
   "source": [
    "#List"
   ]
  },
  {
   "cell_type": "code",
   "execution_count": 16,
   "id": "1dc50751",
   "metadata": {},
   "outputs": [],
   "source": [
    "my_string=\"muhammet\""
   ]
  },
  {
   "cell_type": "code",
   "execution_count": 17,
   "id": "f3fbf742",
   "metadata": {},
   "outputs": [
    {
     "data": {
      "text/plain": [
       "'m'"
      ]
     },
     "execution_count": 17,
     "metadata": {},
     "output_type": "execute_result"
    }
   ],
   "source": [
    "my_string[0]"
   ]
  },
  {
   "cell_type": "code",
   "execution_count": 18,
   "id": "a16af4c3",
   "metadata": {},
   "outputs": [
    {
     "ename": "TypeError",
     "evalue": "'str' object does not support item assignment",
     "output_type": "error",
     "traceback": [
      "\u001b[1;31m---------------------------------------------------------------------------\u001b[0m",
      "\u001b[1;31mTypeError\u001b[0m                                 Traceback (most recent call last)",
      "Cell \u001b[1;32mIn[18], line 1\u001b[0m\n\u001b[1;32m----> 1\u001b[0m my_string[\u001b[38;5;241m1\u001b[39m]\u001b[38;5;241m=\u001b[39m\u001b[38;5;124m\"\u001b[39m\u001b[38;5;124mi\u001b[39m\u001b[38;5;124m\"\u001b[39m\n",
      "\u001b[1;31mTypeError\u001b[0m: 'str' object does not support item assignment"
     ]
    }
   ],
   "source": [
    "my_string[1]=\"i\""
   ]
  },
  {
   "cell_type": "markdown",
   "id": "a7a40fef",
   "metadata": {},
   "source": [
    "#immutability(değişmezlik)"
   ]
  },
  {
   "cell_type": "code",
   "execution_count": 20,
   "id": "1779e143",
   "metadata": {},
   "outputs": [],
   "source": [
    "my_list=[1,2,3]"
   ]
  },
  {
   "cell_type": "code",
   "execution_count": 21,
   "id": "3a3a5d40",
   "metadata": {},
   "outputs": [
    {
     "data": {
      "text/plain": [
       "1"
      ]
     },
     "execution_count": 21,
     "metadata": {},
     "output_type": "execute_result"
    }
   ],
   "source": [
    "my_list[0]"
   ]
  },
  {
   "cell_type": "code",
   "execution_count": 24,
   "id": "72bcb617",
   "metadata": {},
   "outputs": [
    {
     "data": {
      "text/plain": [
       "3"
      ]
     },
     "execution_count": 24,
     "metadata": {},
     "output_type": "execute_result"
    }
   ],
   "source": [
    "my_list[-1]"
   ]
  },
  {
   "cell_type": "code",
   "execution_count": 25,
   "id": "4ba846fc",
   "metadata": {},
   "outputs": [],
   "source": [
    "my_list[0]=5"
   ]
  },
  {
   "cell_type": "code",
   "execution_count": 26,
   "id": "3cae7fbe",
   "metadata": {},
   "outputs": [
    {
     "data": {
      "text/plain": [
       "[5, 2, 3]"
      ]
     },
     "execution_count": 26,
     "metadata": {},
     "output_type": "execute_result"
    }
   ],
   "source": [
    "my_list"
   ]
  },
  {
   "cell_type": "code",
   "execution_count": 27,
   "id": "9dd5fdf6",
   "metadata": {},
   "outputs": [],
   "source": [
    "my_list.append(7)"
   ]
  },
  {
   "cell_type": "code",
   "execution_count": 28,
   "id": "f377f039",
   "metadata": {},
   "outputs": [
    {
     "data": {
      "text/plain": [
       "[5, 2, 3, 7]"
      ]
     },
     "execution_count": 28,
     "metadata": {},
     "output_type": "execute_result"
    }
   ],
   "source": [
    "my_list"
   ]
  },
  {
   "cell_type": "code",
   "execution_count": null,
   "id": "1c4765eb",
   "metadata": {},
   "outputs": [],
   "source": []
  }
 ],
 "metadata": {
  "kernelspec": {
   "display_name": "Python 3 (ipykernel)",
   "language": "python",
   "name": "python3"
  },
  "language_info": {
   "codemirror_mode": {
    "name": "ipython",
    "version": 3
   },
   "file_extension": ".py",
   "mimetype": "text/x-python",
   "name": "python",
   "nbconvert_exporter": "python",
   "pygments_lexer": "ipython3",
   "version": "3.11.4"
  }
 },
 "nbformat": 4,
 "nbformat_minor": 5
}
