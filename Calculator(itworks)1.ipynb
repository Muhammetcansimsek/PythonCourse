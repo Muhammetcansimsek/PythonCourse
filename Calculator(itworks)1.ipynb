{
 "cells": [
  {
   "cell_type": "code",
   "execution_count": null,
   "metadata": {},
   "outputs": [],
   "source": [
    "while True:\n",
    "    def calculator(x, y, param):\n",
    "        if param == \"+\":\n",
    "            return x + y\n",
    "        elif param == \"-\":\n",
    "            return x - y\n",
    "        elif param == \"*\":\n",
    "            return x * y\n",
    "        elif param == \"/\":\n",
    "            return float(x / y)\n",
    "\n",
    "    try:\n",
    "        item1 = int(input(\"please type the first number:\"))\n",
    "        item2 = int(input(\"please type the second number:\"))\n",
    "    except ValueError:\n",
    "        print(\"please just type the numbers, not a letter or something\")\n",
    "        continue\n",
    "\n",
    "    calculate_string = \"+-*/\"\n",
    "\n",
    "    choise = input(\"Choose between +, -, *, /\")\n",
    "\n",
    "    if choise not in calculate_string:\n",
    "        print(\"Please only type one of these characters '+, -, *, /'\")\n",
    "        continue\n",
    "\n",
    "    if choise in calculate_string:\n",
    "        print(calculator(item1,item2,choise))"
   ]
  }
 ],
 "metadata": {
  "kernelspec": {
   "display_name": "Python 3",
   "language": "python",
   "name": "python3"
  },
  "language_info": {
   "codemirror_mode": {
    "name": "ipython",
    "version": 3
   },
   "file_extension": ".py",
   "mimetype": "text/x-python",
   "name": "python",
   "nbconvert_exporter": "python",
   "pygments_lexer": "ipython3",
   "version": "3.10.7"
  }
 },
 "nbformat": 4,
 "nbformat_minor": 2
}
