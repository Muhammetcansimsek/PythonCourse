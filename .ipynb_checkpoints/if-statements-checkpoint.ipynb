{
 "cells": [
  {
   "cell_type": "code",
   "execution_count": 12,
   "id": "961ffa39",
   "metadata": {},
   "outputs": [
    {
     "name": "stdout",
     "output_type": "stream",
     "text": [
      "3 is greater than 2\n"
     ]
    }
   ],
   "source": [
    "if 3>2:\n",
    "    print(\"3 is greater than 2\")"
   ]
  },
  {
   "cell_type": "code",
   "execution_count": 13,
   "id": "76ebe9f1",
   "metadata": {},
   "outputs": [],
   "source": [
    "x = 2\n",
    "y = 3"
   ]
  },
  {
   "cell_type": "code",
   "execution_count": 14,
   "id": "ee66c603",
   "metadata": {},
   "outputs": [
    {
     "name": "stdout",
     "output_type": "stream",
     "text": [
      "y is greater than x\n"
     ]
    }
   ],
   "source": [
    "if x > y:\n",
    "    print(\"x is greater than y\")\n",
    "elif y > x:\n",
    "    print(\"y is greater than x\")\n",
    "elif x==y:\n",
    "    print(\"x and y contain the same number value\")\n",
    "else:\n",
    "    print(\"none of the above\")"
   ]
  },
  {
   "cell_type": "code",
   "execution_count": 15,
   "id": "9c54d89c",
   "metadata": {},
   "outputs": [
    {
     "name": "stdout",
     "output_type": "stream",
     "text": [
      "superhore: Spiderman\n"
     ]
    }
   ],
   "source": [
    "mySuperHero= input(\"superhore: \")"
   ]
  },
  {
   "cell_type": "code",
   "execution_count": 16,
   "id": "4500c51a",
   "metadata": {},
   "outputs": [
    {
     "name": "stdout",
     "output_type": "stream",
     "text": [
      "Ayeeeee\n"
     ]
    }
   ],
   "source": [
    "if mySuperHero == \"Batman\":\n",
    "    print(\"Naahhhh\")\n",
    "elif mySuperHero == \"Superman\":\n",
    "    print(\"Naaahhh\")\n",
    "elif mySuperHero == \"IronMan\":\n",
    "    print(\"Naaahhhh\")\n",
    "elif mySuperHero == \"Spiderman\":\n",
    "    print(\"Ayeeeee\")"
   ]
  },
  {
   "cell_type": "code",
   "execution_count": null,
   "id": "7a23cd2b",
   "metadata": {},
   "outputs": [],
   "source": []
  }
 ],
 "metadata": {
  "kernelspec": {
   "display_name": "Python 3 (ipykernel)",
   "language": "python",
   "name": "python3"
  },
  "language_info": {
   "codemirror_mode": {
    "name": "ipython",
    "version": 3
   },
   "file_extension": ".py",
   "mimetype": "text/x-python",
   "name": "python",
   "nbconvert_exporter": "python",
   "pygments_lexer": "ipython3",
   "version": "3.11.4"
  }
 },
 "nbformat": 4,
 "nbformat_minor": 5
}
