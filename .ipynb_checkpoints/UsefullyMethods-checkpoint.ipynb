{
 "cells": [
  {
   "cell_type": "code",
   "execution_count": 1,
   "id": "1b22b34c",
   "metadata": {},
   "outputs": [
    {
     "data": {
      "text/plain": [
       "range(0, 20)"
      ]
     },
     "execution_count": 1,
     "metadata": {},
     "output_type": "execute_result"
    }
   ],
   "source": [
    "range(20)"
   ]
  },
  {
   "cell_type": "code",
   "execution_count": 2,
   "id": "7ccc3e27",
   "metadata": {},
   "outputs": [
    {
     "data": {
      "text/plain": [
       "[0, 1, 2, 3, 4, 5, 6, 7, 8, 9, 10, 11, 12, 13, 14, 15, 16, 17, 18, 19]"
      ]
     },
     "execution_count": 2,
     "metadata": {},
     "output_type": "execute_result"
    }
   ],
   "source": [
    "list(range(20))"
   ]
  },
  {
   "cell_type": "code",
   "execution_count": 3,
   "id": "e158b519",
   "metadata": {},
   "outputs": [
    {
     "name": "stdout",
     "output_type": "stream",
     "text": [
      "5\n",
      "8\n",
      "11\n",
      "14\n",
      "17\n",
      "20\n"
     ]
    }
   ],
   "source": [
    "for numb in list(range(5,21,3)):\n",
    "    print(numb)"
   ]
  },
  {
   "cell_type": "code",
   "execution_count": 4,
   "id": "9d046044",
   "metadata": {},
   "outputs": [
    {
     "name": "stdout",
     "output_type": "stream",
     "text": [
      "index:0 no:5\n",
      "index:1 no:6\n",
      "index:2 no:7\n",
      "index:3 no:8\n",
      "index:4 no:9\n",
      "index:5 no:10\n",
      "index:6 no:11\n",
      "index:7 no:12\n",
      "index:8 no:13\n",
      "index:9 no:14\n"
     ]
    }
   ],
   "source": [
    "index = 0\n",
    "for myNumber in list(range(5,15)):\n",
    "    print(f\"index:{index} no:{myNumber}\")\n",
    "    index += 1"
   ]
  },
  {
   "cell_type": "code",
   "execution_count": 5,
   "id": "87c10447",
   "metadata": {},
   "outputs": [
    {
     "name": "stdout",
     "output_type": "stream",
     "text": [
      "(0, 5)\n",
      "(1, 6)\n",
      "(2, 7)\n",
      "(3, 8)\n",
      "(4, 9)\n",
      "(5, 10)\n",
      "(6, 11)\n",
      "(7, 12)\n",
      "(8, 13)\n",
      "(9, 14)\n",
      "(10, 15)\n",
      "(11, 16)\n",
      "(12, 17)\n",
      "(13, 18)\n",
      "(14, 19)\n",
      "(15, 20)\n"
     ]
    }
   ],
   "source": [
    "for number in enumerate(list(range(5,21))):\n",
    "    print(number)"
   ]
  },
  {
   "cell_type": "code",
   "execution_count": 6,
   "id": "3e85234a",
   "metadata": {},
   "outputs": [],
   "source": [
    "from random import randint"
   ]
  },
  {
   "cell_type": "code",
   "execution_count": 7,
   "id": "7c106234",
   "metadata": {},
   "outputs": [
    {
     "data": {
      "text/plain": [
       "904"
      ]
     },
     "execution_count": 7,
     "metadata": {},
     "output_type": "execute_result"
    }
   ],
   "source": [
    "randint(0,1000)"
   ]
  },
  {
   "cell_type": "code",
   "execution_count": 8,
   "id": "a514fb49",
   "metadata": {},
   "outputs": [
    {
     "data": {
      "text/plain": [
       "[0, 1, 2, 3, 4, 5, 6, 7, 8, 9]"
      ]
     },
     "execution_count": 8,
     "metadata": {},
     "output_type": "execute_result"
    }
   ],
   "source": [
    "my_list2 = list(range(10))\n",
    "my_list2"
   ]
  },
  {
   "cell_type": "code",
   "execution_count": 9,
   "id": "9926f597",
   "metadata": {},
   "outputs": [],
   "source": [
    "from random import shuffle"
   ]
  },
  {
   "cell_type": "code",
   "execution_count": 10,
   "id": "691fceb1",
   "metadata": {},
   "outputs": [
    {
     "data": {
      "text/plain": [
       "[8, 3, 6, 2, 7, 4, 1, 5, 9, 0]"
      ]
     },
     "execution_count": 10,
     "metadata": {},
     "output_type": "execute_result"
    }
   ],
   "source": [
    "shuffle(my_list2)\n",
    "my_list2"
   ]
  },
  {
   "cell_type": "markdown",
   "id": "1d6dd095",
   "metadata": {},
   "source": [
    "#ZIP"
   ]
  },
  {
   "cell_type": "code",
   "execution_count": 11,
   "id": "d46aaef3",
   "metadata": {},
   "outputs": [],
   "source": [
    "sports_list = [\"basketball\", \"swim\", \"run\"]"
   ]
  },
  {
   "cell_type": "code",
   "execution_count": 12,
   "id": "6def3183",
   "metadata": {},
   "outputs": [],
   "source": [
    "calories_list = [100,200,300]"
   ]
  },
  {
   "cell_type": "code",
   "execution_count": 13,
   "id": "5383f65b",
   "metadata": {},
   "outputs": [],
   "source": [
    "day_list = [\"monday\", \"tuesday\", \"wednesday\"]"
   ]
  },
  {
   "cell_type": "markdown",
   "id": "2023987c",
   "metadata": {},
   "source": [
    "1.Yol"
   ]
  },
  {
   "cell_type": "code",
   "execution_count": 14,
   "id": "ab6c0efb",
   "metadata": {},
   "outputs": [
    {
     "name": "stdout",
     "output_type": "stream",
     "text": [
      "basketball 100 monday\n",
      "swim 200 tuesday\n",
      "run 300 wednesday\n"
     ]
    }
   ],
   "source": [
    "for iter1,iter2,iter3 in zip(sports_list, calories_list, day_list):\n",
    "    print(iter1,iter2,iter3)"
   ]
  },
  {
   "cell_type": "markdown",
   "id": "cdeff388",
   "metadata": {},
   "source": [
    "2.Yol"
   ]
  },
  {
   "cell_type": "code",
   "execution_count": 15,
   "id": "016c8684",
   "metadata": {},
   "outputs": [
    {
     "data": {
      "text/plain": [
       "[('basketball', 100, 'monday'),\n",
       " ('swim', 200, 'tuesday'),\n",
       " ('run', 300, 'wednesday')]"
      ]
     },
     "execution_count": 15,
     "metadata": {},
     "output_type": "execute_result"
    }
   ],
   "source": [
    "new_list = list(zip(sports_list, calories_list, day_list))\n",
    "new_list"
   ]
  },
  {
   "cell_type": "markdown",
   "id": "2dcbac57",
   "metadata": {},
   "source": [
    "LIST ADVANCED"
   ]
  },
  {
   "cell_type": "code",
   "execution_count": 16,
   "id": "90f81845",
   "metadata": {},
   "outputs": [
    {
     "data": {
      "text/plain": [
       "['m', 'e', 't', 'a', 'l', 'l', 'i', 'c', 'a']"
      ]
     },
     "execution_count": 16,
     "metadata": {},
     "output_type": "execute_result"
    }
   ],
   "source": [
    "new_list = []\n",
    "my_string = \"metallica\"\n",
    "\n",
    "for item in my_string:\n",
    "    new_list.append(item)\n",
    "new_list"
   ]
  },
  {
   "cell_type": "code",
   "execution_count": 17,
   "id": "b6fda58a",
   "metadata": {},
   "outputs": [
    {
     "data": {
      "text/plain": [
       "str"
      ]
     },
     "execution_count": 17,
     "metadata": {},
     "output_type": "execute_result"
    }
   ],
   "source": [
    "type(my_string)"
   ]
  },
  {
   "cell_type": "code",
   "execution_count": 18,
   "id": "ece3d2f0",
   "metadata": {},
   "outputs": [
    {
     "name": "stdout",
     "output_type": "stream",
     "text": [
      "['m', 'e', 't', 'a', 'l', 'l', 'i', 'c', 'a']\n"
     ]
    }
   ],
   "source": [
    "character_list = [char for char in my_string]\n",
    "print(character_list)"
   ]
  },
  {
   "cell_type": "code",
   "execution_count": null,
   "id": "7689d99c",
   "metadata": {},
   "outputs": [],
   "source": []
  }
 ],
 "metadata": {
  "kernelspec": {
   "display_name": "Python 3 (ipykernel)",
   "language": "python",
   "name": "python3"
  },
  "language_info": {
   "codemirror_mode": {
    "name": "ipython",
    "version": 3
   },
   "file_extension": ".py",
   "mimetype": "text/x-python",
   "name": "python",
   "nbconvert_exporter": "python",
   "pygments_lexer": "ipython3",
   "version": "3.11.4"
  }
 },
 "nbformat": 4,
 "nbformat_minor": 5
}
