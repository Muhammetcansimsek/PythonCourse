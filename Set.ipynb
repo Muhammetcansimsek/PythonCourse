{
 "cells": [
  {
   "cell_type": "code",
   "execution_count": 25,
   "id": "85442030",
   "metadata": {},
   "outputs": [],
   "source": [
    "myList = [1,2,3]"
   ]
  },
  {
   "cell_type": "code",
   "execution_count": 26,
   "id": "0d5fc168",
   "metadata": {},
   "outputs": [
    {
     "data": {
      "text/plain": [
       "list"
      ]
     },
     "execution_count": 26,
     "metadata": {},
     "output_type": "execute_result"
    }
   ],
   "source": [
    "type(myList)"
   ]
  },
  {
   "cell_type": "code",
   "execution_count": 27,
   "id": "283ed19c",
   "metadata": {},
   "outputs": [],
   "source": [
    "mySet = set(myList) #CASTING --> tür dönüştürme"
   ]
  },
  {
   "cell_type": "code",
   "execution_count": 28,
   "id": "ca9cdbb0",
   "metadata": {},
   "outputs": [
    {
     "data": {
      "text/plain": [
       "list"
      ]
     },
     "execution_count": 28,
     "metadata": {},
     "output_type": "execute_result"
    }
   ],
   "source": [
    "type(myList)"
   ]
  },
  {
   "cell_type": "code",
   "execution_count": 29,
   "id": "e46c9c76",
   "metadata": {},
   "outputs": [
    {
     "data": {
      "text/plain": [
       "set"
      ]
     },
     "execution_count": 29,
     "metadata": {},
     "output_type": "execute_result"
    }
   ],
   "source": [
    "type(mySet)"
   ]
  },
  {
   "cell_type": "code",
   "execution_count": 30,
   "id": "04dcb314",
   "metadata": {},
   "outputs": [
    {
     "data": {
      "text/plain": [
       "{1, 2, 3}"
      ]
     },
     "execution_count": 30,
     "metadata": {},
     "output_type": "execute_result"
    }
   ],
   "source": [
    "mySet"
   ]
  },
  {
   "cell_type": "markdown",
   "id": "a7260123",
   "metadata": {},
   "source": [
    " Set veri tipleri aslında 'dictionary' veri tiplerine benzer şekilde gösterilirler fakat bir farkları vardır o da 'key' ve 'value' gibi değerleri yoktur sıradan bir list gibi values(değerleri) tanımlanır."
   ]
  },
  {
   "cell_type": "code",
   "execution_count": 31,
   "id": "2ae488cb",
   "metadata": {},
   "outputs": [],
   "source": [
    "mySet_2 = {4,7,9,12}"
   ]
  },
  {
   "cell_type": "code",
   "execution_count": 32,
   "id": "309c35f6",
   "metadata": {},
   "outputs": [
    {
     "data": {
      "text/plain": [
       "set"
      ]
     },
     "execution_count": 32,
     "metadata": {},
     "output_type": "execute_result"
    }
   ],
   "source": [
    "type(mySet_2)"
   ]
  },
  {
   "cell_type": "code",
   "execution_count": 33,
   "id": "343b0ec2",
   "metadata": {},
   "outputs": [],
   "source": [
    "mySet_3 = {\"a\", \"b\", \"c\"}"
   ]
  },
  {
   "cell_type": "code",
   "execution_count": 34,
   "id": "f5f25c0e",
   "metadata": {},
   "outputs": [
    {
     "data": {
      "text/plain": [
       "{'a', 'b', 'c'}"
      ]
     },
     "execution_count": 34,
     "metadata": {},
     "output_type": "execute_result"
    }
   ],
   "source": [
    "mySet_3"
   ]
  },
  {
   "cell_type": "code",
   "execution_count": 35,
   "id": "5083464f",
   "metadata": {},
   "outputs": [],
   "source": [
    "mySet_4 = {}"
   ]
  },
  {
   "cell_type": "code",
   "execution_count": 36,
   "id": "59edc61c",
   "metadata": {},
   "outputs": [
    {
     "data": {
      "text/plain": [
       "dict"
      ]
     },
     "execution_count": 36,
     "metadata": {},
     "output_type": "execute_result"
    }
   ],
   "source": [
    "type(mySet_4)"
   ]
  },
  {
   "cell_type": "markdown",
   "id": "5b720751",
   "metadata": {},
   "source": [
    "Boş bir şekilde 'set' tanımlayamıyoruz 'dict' ve 'set' veri tiplerinin ikisini tanımlarken de 'curly brackets(küme parantezleri)' olarak tanımlandığından default olarak bunu 'dict' olarak algılıyor ve bu değişkenin türünü 'dict' olarak kabul ediyor. Peki biz içerisinde herhangi bir değişken tanımlamadan bir 'list' tanımlayabilir miyiz sorusunun cevabı da evet olacak fakat set veri tipinde bir nesneye bu tanımlayacağımız list veri tipindeki değişkene eşitlememiz lazım. Aşağıda bunu yapacağız."
   ]
  },
  {
   "cell_type": "code",
   "execution_count": 37,
   "id": "431c23dd",
   "metadata": {},
   "outputs": [],
   "source": [
    "mySet_5 = set()"
   ]
  },
  {
   "cell_type": "code",
   "execution_count": 38,
   "id": "69df5085",
   "metadata": {},
   "outputs": [
    {
     "data": {
      "text/plain": [
       "set"
      ]
     },
     "execution_count": 38,
     "metadata": {},
     "output_type": "execute_result"
    }
   ],
   "source": [
    "type(mySet_5)"
   ]
  },
  {
   "cell_type": "markdown",
   "id": "434be5a4",
   "metadata": {},
   "source": [
    "--------------------------------------------------------------------"
   ]
  },
  {
   "cell_type": "code",
   "execution_count": 39,
   "id": "b268e4ee",
   "metadata": {},
   "outputs": [],
   "source": [
    "mySet_5.add(2)"
   ]
  },
  {
   "cell_type": "code",
   "execution_count": 40,
   "id": "db2c5061",
   "metadata": {},
   "outputs": [
    {
     "data": {
      "text/plain": [
       "{2}"
      ]
     },
     "execution_count": 40,
     "metadata": {},
     "output_type": "execute_result"
    }
   ],
   "source": [
    "mySet_5"
   ]
  }
 ],
 "metadata": {
  "kernelspec": {
   "display_name": "Python 3 (ipykernel)",
   "language": "python",
   "name": "python3"
  },
  "language_info": {
   "codemirror_mode": {
    "name": "ipython",
    "version": 3
   },
   "file_extension": ".py",
   "mimetype": "text/x-python",
   "name": "python",
   "nbconvert_exporter": "python",
   "pygments_lexer": "ipython3",
   "version": "3.11.4"
  }
 },
 "nbformat": 4,
 "nbformat_minor": 5
}
