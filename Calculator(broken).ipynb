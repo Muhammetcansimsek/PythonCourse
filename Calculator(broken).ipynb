{
 "cells": [
  {
   "cell_type": "code",
   "execution_count": 1,
   "metadata": {},
   "outputs": [
    {
     "name": "stdout",
     "output_type": "stream",
     "text": [
      "Please enter only number\n",
      "Please only type one of these characters: +, -, *, /\n"
     ]
    }
   ],
   "source": [
    "def calculate(x, y, ops):\n",
    "    \n",
    "    if choise ==  \"+\":\n",
    "        return(num1 + num2)\n",
    "\n",
    "    elif choise == \"-\":\n",
    "        return(num1 - num2)\n",
    "\n",
    "    elif choise == \"*\":\n",
    "        return(num1 * num2)\n",
    "\n",
    "    elif choise == \"/\":\n",
    "        return(num1 / num2)\n",
    "\n",
    "\n",
    "while True:\n",
    "    try:\n",
    "        num1=float(input(\"Please enter first number: \"))\n",
    "    \n",
    "    except ValueError:\n",
    "        print(\"Please enter only number\")\n",
    "        continue\n",
    "    try:\n",
    "        num2=float(input(\"Pleas enter second number: \"))\n",
    "    \n",
    "    except ValueError:\n",
    "        print(\"Please enter only number\")\n",
    "        continue\n",
    "\n",
    "    process_strings = \"+-*/\"\n",
    "    choise = input(\"Choose between +, -, *, /\")\n",
    "\n",
    "    if choise not in process_strings:\n",
    "        print(\"Please only type one of these characters: +, -, *, /\")\n",
    "        continue\n",
    "    elif choise in process_strings:\n",
    "        print(calculate(num1, num2, choise))"
   ]
  },
  {
   "cell_type": "code",
   "execution_count": null,
   "metadata": {},
   "outputs": [],
   "source": []
  }
 ],
 "metadata": {
  "kernelspec": {
   "display_name": "Python 3",
   "language": "python",
   "name": "python3"
  },
  "language_info": {
   "codemirror_mode": {
    "name": "ipython",
    "version": 3
   },
   "file_extension": ".py",
   "mimetype": "text/x-python",
   "name": "python",
   "nbconvert_exporter": "python",
   "pygments_lexer": "ipython3",
   "version": "3.10.7"
  }
 },
 "nbformat": 4,
 "nbformat_minor": 2
}
