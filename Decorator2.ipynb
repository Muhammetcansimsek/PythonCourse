{
 "cells": [
  {
   "cell_type": "code",
   "execution_count": 1,
   "metadata": {},
   "outputs": [
    {
     "name": "stdout",
     "output_type": "stream",
     "text": [
      "function started\n",
      "hello world!\n",
      "function ended\n"
     ]
    }
   ],
   "source": [
    "def func(new_func):\n",
    "    print(\"function started\")\n",
    "    new_func()\n",
    "    print(\"function ended\")\n",
    "\n",
    "def hello_func():\n",
    "    print(\"hello world!\")\n",
    "\n",
    "func(hello_func)"
   ]
  },
  {
   "cell_type": "code",
   "execution_count": 2,
   "metadata": {},
   "outputs": [],
   "source": [
    "def new_func():\n",
    "    print(\"new func\")\n",
    "    def new_func_2():\n",
    "        print(\"new func 2\")\n",
    "    return new_func_2"
   ]
  },
  {
   "cell_type": "code",
   "execution_count": 3,
   "metadata": {},
   "outputs": [
    {
     "name": "stdout",
     "output_type": "stream",
     "text": [
      "new func\n"
     ]
    }
   ],
   "source": [
    "new_string = new_func()"
   ]
  },
  {
   "cell_type": "code",
   "execution_count": 4,
   "metadata": {},
   "outputs": [
    {
     "name": "stdout",
     "output_type": "stream",
     "text": [
      "new func 2\n"
     ]
    }
   ],
   "source": [
    "new_string()"
   ]
  },
  {
   "cell_type": "code",
   "execution_count": 5,
   "metadata": {},
   "outputs": [
    {
     "name": "stdout",
     "output_type": "stream",
     "text": [
      "new func\n",
      "new func 2\n"
     ]
    }
   ],
   "source": [
    "new_func()()"
   ]
  },
  {
   "cell_type": "code",
   "execution_count": 8,
   "metadata": {},
   "outputs": [],
   "source": [
    "def decorator_function(param_func):\n",
    "\n",
    "    def wrapper_function():\n",
    "        print(\"wrapper started\")\n",
    "\n",
    "        param_func()\n",
    "\n",
    "        print(\"wrapper stoped\")\n",
    "\n",
    "    return wrapper_function"
   ]
  },
  {
   "cell_type": "code",
   "execution_count": 9,
   "metadata": {},
   "outputs": [],
   "source": [
    "def func_new():\n",
    "    print(\"hello world\")"
   ]
  },
  {
   "cell_type": "code",
   "execution_count": 13,
   "metadata": {},
   "outputs": [
    {
     "name": "stdout",
     "output_type": "stream",
     "text": [
      "wrapper started\n",
      "hello world\n",
      "wrapper stoped\n"
     ]
    }
   ],
   "source": [
    "new_forgery = decorator_function(func_new)\n",
    "new_forgery()"
   ]
  },
  {
   "cell_type": "markdown",
   "metadata": {},
   "source": [
    "## decorator fonksiyonlar bize burada kolaylık sağlarlar yani \"@decorator_function(func_new)\" bu şekilde tanımlanması bize kolaylık sağlar\n",
    "## ve bizi işlem kalabalığından kurtarır."
   ]
  },
  {
   "cell_type": "code",
   "execution_count": 16,
   "metadata": {},
   "outputs": [],
   "source": [
    "@decorator_function\n",
    "def func_new():\n",
    "    print(\"hello world\")"
   ]
  },
  {
   "cell_type": "code",
   "execution_count": 18,
   "metadata": {},
   "outputs": [
    {
     "name": "stdout",
     "output_type": "stream",
     "text": [
      "wrapper started\n",
      "hello world\n",
      "wrapper stoped\n"
     ]
    }
   ],
   "source": [
    "func_new()"
   ]
  },
  {
   "cell_type": "code",
   "execution_count": null,
   "metadata": {},
   "outputs": [],
   "source": []
  }
 ],
 "metadata": {
  "kernelspec": {
   "display_name": "Python 3",
   "language": "python",
   "name": "python3"
  },
  "language_info": {
   "codemirror_mode": {
    "name": "ipython",
    "version": 3
   },
   "file_extension": ".py",
   "mimetype": "text/x-python",
   "name": "python",
   "nbconvert_exporter": "python",
   "pygments_lexer": "ipython3",
   "version": "3.10.7"
  }
 },
 "nbformat": 4,
 "nbformat_minor": 2
}
