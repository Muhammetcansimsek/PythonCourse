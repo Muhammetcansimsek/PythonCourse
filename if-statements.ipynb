{
 "cells": [
  {
   "cell_type": "code",
   "execution_count": 18,
   "id": "961ffa39",
   "metadata": {},
   "outputs": [
    {
     "name": "stdout",
     "output_type": "stream",
     "text": [
      "3 is greater than 2\n"
     ]
    }
   ],
   "source": [
    "if 3>2:\n",
    "    print(\"3 is greater than 2\")"
   ]
  },
  {
   "cell_type": "code",
   "execution_count": 19,
   "id": "76ebe9f1",
   "metadata": {},
   "outputs": [],
   "source": [
    "x = 2\n",
    "y = 3"
   ]
  },
  {
   "cell_type": "code",
   "execution_count": 20,
   "id": "ee66c603",
   "metadata": {},
   "outputs": [
    {
     "name": "stdout",
     "output_type": "stream",
     "text": [
      "y is greater than x\n"
     ]
    }
   ],
   "source": [
    "if x > y:\n",
    "    print(\"x is greater than y\")\n",
    "elif y > x:\n",
    "    print(\"y is greater than x\")\n",
    "elif x==y:\n",
    "    print(\"x and y contain the same number value\")\n",
    "else:\n",
    "    print(\"none of the above\")"
   ]
  },
  {
   "cell_type": "code",
   "execution_count": 21,
   "id": "9c54d89c",
   "metadata": {},
   "outputs": [
    {
     "name": "stdout",
     "output_type": "stream",
     "text": [
      "superhore: Spiderman\n"
     ]
    }
   ],
   "source": [
    "mySuperHero= input(\"superhore: \")"
   ]
  },
  {
   "cell_type": "code",
   "execution_count": 22,
   "id": "54151ff3",
   "metadata": {},
   "outputs": [
    {
     "name": "stdout",
     "output_type": "stream",
     "text": [
      "Ayeeeee\n"
     ]
    }
   ],
   "source": [
    "if mySuperHero == \"Batman\":\n",
    "    print(\"Naahhhh\")\n",
    "elif mySuperHero == \"Superman\":\n",
    "    print(\"Naaahhh\")\n",
    "elif mySuperHero == \"IronMan\":\n",
    "    print(\"Naaahhhh\")\n",
    "elif mySuperHero == \"Spiderman\":\n",
    "    print(\"Ayeeeee\")"
   ]
  },
  {
   "cell_type": "code",
   "execution_count": 23,
   "id": "94905979",
   "metadata": {},
   "outputs": [],
   "source": [
    "isDead = False"
   ]
  },
  {
   "cell_type": "code",
   "execution_count": 24,
   "id": "8a59933d",
   "metadata": {},
   "outputs": [
    {
     "name": "stdout",
     "output_type": "stream",
     "text": [
      "character is live\n"
     ]
    }
   ],
   "source": [
    "if isDead:\n",
    "    print(\"character is dead\")\n",
    "else :\n",
    "    print(\"character is live\")"
   ]
  },
  {
   "cell_type": "code",
   "execution_count": 25,
   "id": "8d034f6c",
   "metadata": {},
   "outputs": [],
   "source": [
    "myList = [1,2,3,4,5]"
   ]
  },
  {
   "cell_type": "code",
   "execution_count": 26,
   "id": "fcd20e8d",
   "metadata": {},
   "outputs": [
    {
     "name": "stdout",
     "output_type": "stream",
     "text": [
      "Yeaah buddy!\n"
     ]
    }
   ],
   "source": [
    "if 2 in myList:\n",
    "    print(\"Yeaah buddy!\")\n",
    "else:\n",
    "    print(\"Naah\")"
   ]
  },
  {
   "cell_type": "code",
   "execution_count": 27,
   "id": "4ac58c06",
   "metadata": {},
   "outputs": [],
   "source": [
    "my_dictionary = {\"k1\" : 100, \"k2\" : 200, \"k3\" : 300}"
   ]
  },
  {
   "cell_type": "code",
   "execution_count": 30,
   "id": "0fc2409a",
   "metadata": {},
   "outputs": [
    {
     "name": "stdout",
     "output_type": "stream",
     "text": [
      "false\n"
     ]
    }
   ],
   "source": [
    "if 500 in my_dictionary.values():\n",
    "    print(\"true\")\n",
    "else :\n",
    "    print(\"false\")"
   ]
  }
 ],
 "metadata": {
  "kernelspec": {
   "display_name": "Python 3 (ipykernel)",
   "language": "python",
   "name": "python3"
  },
  "language_info": {
   "codemirror_mode": {
    "name": "ipython",
    "version": 3
   },
   "file_extension": ".py",
   "mimetype": "text/x-python",
   "name": "python",
   "nbconvert_exporter": "python",
   "pygments_lexer": "ipython3",
   "version": "3.11.4"
  }
 },
 "nbformat": 4,
 "nbformat_minor": 5
}
