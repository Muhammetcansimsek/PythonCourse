{
 "cells": [
  {
   "cell_type": "code",
   "execution_count": 1,
   "id": "5458f036",
   "metadata": {},
   "outputs": [
    {
     "data": {
      "text/plain": [
       "'MUHAMMET CAN ŞIMŞEK'"
      ]
     },
     "execution_count": 1,
     "metadata": {},
     "output_type": "execute_result"
    }
   ],
   "source": [
    "my_string = \"Muhammet Can Şimşek\"\n",
    "my_string.upper()"
   ]
  },
  {
   "cell_type": "code",
   "execution_count": 2,
   "id": "02aeee41",
   "metadata": {},
   "outputs": [
    {
     "data": {
      "text/plain": [
       "['Muhammet', 'Can', 'Şimşek']"
      ]
     },
     "execution_count": 2,
     "metadata": {},
     "output_type": "execute_result"
    }
   ],
   "source": [
    "my_string.split()"
   ]
  },
  {
   "cell_type": "code",
   "execution_count": 3,
   "id": "a4c3facb",
   "metadata": {},
   "outputs": [
    {
     "data": {
      "text/plain": [
       "list"
      ]
     },
     "execution_count": 3,
     "metadata": {},
     "output_type": "execute_result"
    }
   ],
   "source": [
    "type(my_string.split())"
   ]
  },
  {
   "cell_type": "code",
   "execution_count": 4,
   "id": "0f25b52d",
   "metadata": {},
   "outputs": [
    {
     "name": "stdout",
     "output_type": "stream",
     "text": [
      "Help on built-in function split:\n",
      "\n",
      "split(sep=None, maxsplit=-1) method of builtins.str instance\n",
      "    Return a list of the substrings in the string, using sep as the separator string.\n",
      "    \n",
      "      sep\n",
      "        The separator used to split the string.\n",
      "    \n",
      "        When set to None (the default value), will split on any whitespace\n",
      "        character (including \\\\n \\\\r \\\\t \\\\f and spaces) and will discard\n",
      "        empty strings from the result.\n",
      "      maxsplit\n",
      "        Maximum number of splits (starting from the left).\n",
      "        -1 (the default value) means no limit.\n",
      "    \n",
      "    Note, str.split() is mainly useful for data that has been intentionally\n",
      "    delimited.  With natural text that includes punctuation, consider using\n",
      "    the regular expression module.\n",
      "\n"
     ]
    }
   ],
   "source": [
    "help(my_string.split)"
   ]
  },
  {
   "cell_type": "code",
   "execution_count": 5,
   "id": "7a41a69e",
   "metadata": {},
   "outputs": [],
   "source": [
    "def hello_world():\n",
    "    print(\"Hello World!\")\n",
    "    print(\"**************************\")"
   ]
  },
  {
   "cell_type": "code",
   "execution_count": 6,
   "id": "cce61865",
   "metadata": {},
   "outputs": [
    {
     "data": {
      "text/plain": [
       "<function __main__.hello_world()>"
      ]
     },
     "execution_count": 6,
     "metadata": {},
     "output_type": "execute_result"
    }
   ],
   "source": [
    "hello_world"
   ]
  },
  {
   "cell_type": "code",
   "execution_count": 7,
   "id": "454b31af",
   "metadata": {},
   "outputs": [
    {
     "name": "stdout",
     "output_type": "stream",
     "text": [
      "Hello World!\n",
      "**************************\n"
     ]
    }
   ],
   "source": [
    "hello_world()"
   ]
  },
  {
   "cell_type": "markdown",
   "id": "c582d39d",
   "metadata": {},
   "source": [
    "# INPUT & RETURN"
   ]
  },
  {
   "cell_type": "code",
   "execution_count": 8,
   "id": "2059a1cc",
   "metadata": {},
   "outputs": [],
   "source": [
    "def hello_programming(name):\n",
    "    print(\"Hello\", f\"{name}\")"
   ]
  },
  {
   "cell_type": "code",
   "execution_count": 9,
   "id": "6ef1613a",
   "metadata": {},
   "outputs": [
    {
     "name": "stdout",
     "output_type": "stream",
     "text": [
      "Hello Python\n"
     ]
    }
   ],
   "source": [
    "hello_programming(\"Python\")"
   ]
  },
  {
   "cell_type": "code",
   "execution_count": 10,
   "id": "28e92790",
   "metadata": {},
   "outputs": [
    {
     "name": "stdout",
     "output_type": "stream",
     "text": [
      "Hello Java\n"
     ]
    }
   ],
   "source": [
    "hello_programming(\"Java\")"
   ]
  },
  {
   "cell_type": "code",
   "execution_count": 11,
   "id": "ac1990bc",
   "metadata": {},
   "outputs": [],
   "source": [
    "def hello_program(name = \"python\"):\n",
    "    print(\"Hello\")\n",
    "    print(name)"
   ]
  },
  {
   "cell_type": "code",
   "execution_count": 12,
   "id": "bac2e065",
   "metadata": {},
   "outputs": [
    {
     "name": "stdout",
     "output_type": "stream",
     "text": [
      "Hello\n",
      "python\n"
     ]
    }
   ],
   "source": [
    "hello_program()"
   ]
  },
  {
   "cell_type": "code",
   "execution_count": 13,
   "id": "c55af862",
   "metadata": {},
   "outputs": [
    {
     "name": "stdout",
     "output_type": "stream",
     "text": [
      "Hello\n",
      "java\n"
     ]
    }
   ],
   "source": [
    "hello_program(\"java\")"
   ]
  },
  {
   "cell_type": "code",
   "execution_count": 14,
   "id": "3ab73f1c",
   "metadata": {},
   "outputs": [],
   "source": [
    "def sum(n1, n2):\n",
    "    return n1+n2"
   ]
  },
  {
   "cell_type": "code",
   "execution_count": 15,
   "id": "e717db68",
   "metadata": {},
   "outputs": [
    {
     "data": {
      "text/plain": [
       "121.7"
      ]
     },
     "execution_count": 15,
     "metadata": {},
     "output_type": "execute_result"
    }
   ],
   "source": [
    "sum(57,64.7)"
   ]
  },
  {
   "cell_type": "code",
   "execution_count": 16,
   "id": "d38f54bf",
   "metadata": {},
   "outputs": [],
   "source": [
    "def faktoriyel(sayi):\n",
    "    \n",
    "    if sayi == 1 & sayi == 0:\n",
    "        return 1\n",
    "    else:\n",
    "        return sayi * faktoriyel(sayi-1)"
   ]
  },
  {
   "cell_type": "code",
   "execution_count": 17,
   "id": "1a480167",
   "metadata": {},
   "outputs": [
    {
     "data": {
      "text/plain": [
       "120"
      ]
     },
     "execution_count": 17,
     "metadata": {},
     "output_type": "execute_result"
    }
   ],
   "source": [
    "faktoriyel(5)"
   ]
  },
  {
   "cell_type": "markdown",
   "id": "8e0312c8",
   "metadata": {},
   "source": [
    "#Arbitrary arguments & key word arguments"
   ]
  },
  {
   "cell_type": "code",
   "execution_count": 18,
   "id": "c3cc060a",
   "metadata": {},
   "outputs": [],
   "source": [
    "def my_func(*args):\n",
    "    print(args)"
   ]
  },
  {
   "cell_type": "code",
   "execution_count": 19,
   "id": "256ab150",
   "metadata": {},
   "outputs": [
    {
     "name": "stdout",
     "output_type": "stream",
     "text": [
      "(10, 20)\n"
     ]
    }
   ],
   "source": [
    "my_func(10,20)"
   ]
  },
  {
   "cell_type": "code",
   "execution_count": 20,
   "id": "9e0ae98a",
   "metadata": {},
   "outputs": [
    {
     "name": "stdout",
     "output_type": "stream",
     "text": [
      "(10, 20, 'Atıl', 'Udemy')\n"
     ]
    }
   ],
   "source": [
    "my_func(10,20,\"Atıl\",\"Udemy\")"
   ]
  },
  {
   "cell_type": "code",
   "execution_count": 21,
   "id": "8a085a50",
   "metadata": {},
   "outputs": [],
   "source": [
    "def example_func(**kwargs):\n",
    "    print(kwargs)"
   ]
  },
  {
   "cell_type": "code",
   "execution_count": 22,
   "id": "dba6cc8e",
   "metadata": {},
   "outputs": [
    {
     "name": "stdout",
     "output_type": "stream",
     "text": [
      "{'run': 100, 'swim': 200, 'basketball': 300}\n"
     ]
    }
   ],
   "source": [
    "example_func(run=100, swim=200, basketball=300)"
   ]
  },
  {
   "cell_type": "code",
   "execution_count": null,
   "id": "96e38cfe",
   "metadata": {},
   "outputs": [],
   "source": []
  }
 ],
 "metadata": {
  "kernelspec": {
   "display_name": "Python 3 (ipykernel)",
   "language": "python",
   "name": "python3"
  },
  "language_info": {
   "codemirror_mode": {
    "name": "ipython",
    "version": 3
   },
   "file_extension": ".py",
   "mimetype": "text/x-python",
   "name": "python",
   "nbconvert_exporter": "python",
   "pygments_lexer": "ipython3",
   "version": "3.11.4"
  }
 },
 "nbformat": 4,
 "nbformat_minor": 5
}
