{
 "cells": [
  {
   "cell_type": "markdown",
   "id": "8d7a548e",
   "metadata": {},
   "source": [
    "#nested lists"
   ]
  },
  {
   "cell_type": "code",
   "execution_count": 1,
   "id": "d277b8d8",
   "metadata": {},
   "outputs": [],
   "source": [
    "new_list=[1,4,\"a\"]"
   ]
  },
  {
   "cell_type": "code",
   "execution_count": 2,
   "id": "483d6cad",
   "metadata": {},
   "outputs": [],
   "source": [
    "new_list=[1,4,\"a\",[3,\"c\"]]"
   ]
  },
  {
   "cell_type": "code",
   "execution_count": 3,
   "id": "a8666cdb",
   "metadata": {},
   "outputs": [
    {
     "data": {
      "text/plain": [
       "[1, 4, 'a', [3, 'c']]"
      ]
     },
     "execution_count": 3,
     "metadata": {},
     "output_type": "execute_result"
    }
   ],
   "source": [
    "new_list"
   ]
  },
  {
   "cell_type": "code",
   "execution_count": 4,
   "id": "d5de73bf",
   "metadata": {},
   "outputs": [
    {
     "data": {
      "text/plain": [
       "[3, 'c']"
      ]
     },
     "execution_count": 4,
     "metadata": {},
     "output_type": "execute_result"
    }
   ],
   "source": [
    "new_list[3]"
   ]
  },
  {
   "cell_type": "code",
   "execution_count": 5,
   "id": "f97b3a34",
   "metadata": {},
   "outputs": [],
   "source": [
    "nested_list=new_list[3]"
   ]
  },
  {
   "cell_type": "code",
   "execution_count": 6,
   "id": "c081fe80",
   "metadata": {},
   "outputs": [
    {
     "data": {
      "text/plain": [
       "[3, 'c']"
      ]
     },
     "execution_count": 6,
     "metadata": {},
     "output_type": "execute_result"
    }
   ],
   "source": [
    "nested_list"
   ]
  },
  {
   "cell_type": "code",
   "execution_count": 7,
   "id": "9acb484c",
   "metadata": {},
   "outputs": [
    {
     "data": {
      "text/plain": [
       "3"
      ]
     },
     "execution_count": 7,
     "metadata": {},
     "output_type": "execute_result"
    }
   ],
   "source": [
    "nested_list[0]"
   ]
  },
  {
   "cell_type": "code",
   "execution_count": 8,
   "id": "4059095a",
   "metadata": {},
   "outputs": [
    {
     "data": {
      "text/plain": [
       "'c'"
      ]
     },
     "execution_count": 8,
     "metadata": {},
     "output_type": "execute_result"
    }
   ],
   "source": [
    "nested_list[1]"
   ]
  },
  {
   "cell_type": "code",
   "execution_count": 9,
   "id": "598b8160",
   "metadata": {},
   "outputs": [
    {
     "data": {
      "text/plain": [
       "list"
      ]
     },
     "execution_count": 9,
     "metadata": {},
     "output_type": "execute_result"
    }
   ],
   "source": [
    "type(nested_list)"
   ]
  }
 ],
 "metadata": {
  "kernelspec": {
   "display_name": "Python 3 (ipykernel)",
   "language": "python",
   "name": "python3"
  },
  "language_info": {
   "codemirror_mode": {
    "name": "ipython",
    "version": 3
   },
   "file_extension": ".py",
   "mimetype": "text/x-python",
   "name": "python",
   "nbconvert_exporter": "python",
   "pygments_lexer": "ipython3",
   "version": "3.11.4"
  }
 },
 "nbformat": 4,
 "nbformat_minor": 5
}
