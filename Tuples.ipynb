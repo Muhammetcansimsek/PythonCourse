{
 "cells": [
  {
   "cell_type": "code",
   "execution_count": 25,
   "id": "5c5d8f88",
   "metadata": {},
   "outputs": [],
   "source": [
    "myList = [\"a\", \"1\", \"c\"]"
   ]
  },
  {
   "cell_type": "code",
   "execution_count": 26,
   "id": "dc0a9580",
   "metadata": {},
   "outputs": [],
   "source": [
    "myList[0] = \"b\""
   ]
  },
  {
   "cell_type": "code",
   "execution_count": 27,
   "id": "882c650b",
   "metadata": {},
   "outputs": [
    {
     "data": {
      "text/plain": [
       "['b', '1', 'c']"
      ]
     },
     "execution_count": 27,
     "metadata": {},
     "output_type": "execute_result"
    }
   ],
   "source": [
    "myList"
   ]
  },
  {
   "cell_type": "code",
   "execution_count": 28,
   "id": "8a5c8d7f",
   "metadata": {},
   "outputs": [
    {
     "data": {
      "text/plain": [
       "list"
      ]
     },
     "execution_count": 28,
     "metadata": {},
     "output_type": "execute_result"
    }
   ],
   "source": [
    "type(myList)"
   ]
  },
  {
   "cell_type": "code",
   "execution_count": 29,
   "id": "28ef970c",
   "metadata": {},
   "outputs": [],
   "source": [
    "myTuple = (\"t\", 7, \"p\")"
   ]
  },
  {
   "cell_type": "markdown",
   "id": "e820f421",
   "metadata": {},
   "source": [
    "myTuple[1] = \"y\" --> 'tuple' türündeki değişkenler 'immutable(değişmez)' değişkenlerdir bir değeri bir kere atadıktan sonra onu değiştiremiyoruz."
   ]
  },
  {
   "cell_type": "code",
   "execution_count": 31,
   "id": "d73b59c4",
   "metadata": {},
   "outputs": [
    {
     "data": {
      "text/plain": [
       "1"
      ]
     },
     "execution_count": 31,
     "metadata": {},
     "output_type": "execute_result"
    }
   ],
   "source": [
    "myTuple.count(\"t\")"
   ]
  },
  {
   "cell_type": "code",
   "execution_count": 33,
   "id": "c2a54a3e",
   "metadata": {},
   "outputs": [
    {
     "data": {
      "text/plain": [
       "2"
      ]
     },
     "execution_count": 33,
     "metadata": {},
     "output_type": "execute_result"
    }
   ],
   "source": [
    "myTuple.index(\"p\")"
   ]
  }
 ],
 "metadata": {
  "kernelspec": {
   "display_name": "Python 3 (ipykernel)",
   "language": "python",
   "name": "python3"
  },
  "language_info": {
   "codemirror_mode": {
    "name": "ipython",
    "version": 3
   },
   "file_extension": ".py",
   "mimetype": "text/x-python",
   "name": "python",
   "nbconvert_exporter": "python",
   "pygments_lexer": "ipython3",
   "version": "3.11.4"
  }
 },
 "nbformat": 4,
 "nbformat_minor": 5
}
